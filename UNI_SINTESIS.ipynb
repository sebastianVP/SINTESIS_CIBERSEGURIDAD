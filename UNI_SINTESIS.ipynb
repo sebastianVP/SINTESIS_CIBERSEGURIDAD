{
 "cells": [
  {
   "cell_type": "markdown",
   "id": "c5505c60",
   "metadata": {},
   "source": [
    "<img src=\"https://upload.wikimedia.org/wikipedia/commons/f/f7/Uni-logo_transparente_granate.png\" alt= \"LOGO CAT\" width=400 height=400 align = \"right\">\n",
    "\n",
    "<br>\n",
    "<h1><font color=\"#7F000E\" size=5> Maestria de Ciencias de la Computacion UNI</font></h1>\n",
    "\n",
    "<h1><font color=\"#7F000R\" size=6> CUADERNO DE CIBERSEGURIDAD </font></h1>\n",
    "<h1><font color=\"#7F000E\" size=4>Proyecto I: SINTESIS DE CLASES </font></h1>\n",
    "<br>\n",
    "<br>\n",
    "<div style=\"text-align:right\">\n",
    "<font color=\"#7F000E\" size=3> Alumno:  Alexander O. Valdez Portocarrero</font><br>\n",
    "<font color=\"#7F000E\" size=3> Codigo: 20207072E </font><br>\n",
    "<font color=\"#7F000e\" size=3> Ciclo 2024-2 </font><br>\n",
    "</div>"
   ]
  },
  {
   "cell_type": "markdown",
   "id": "078ed7e8",
   "metadata": {},
   "source": [
    "---"
   ]
  },
  {
   "cell_type": "markdown",
   "id": "3051ea0f",
   "metadata": {},
   "source": [
    "El objetivo de este cuaderno es convertir los videos de la sesiones de clase de tamaño 4Gb-8Gb en texto, para luego generar un resumen y sintesis de los conceptos explicados por el docente. El video se convierte a 20 fragmentos de video, luego se convirte a mp3 y finalmente el audio se transforma a texto, los 20 segmentos se juntan en un solo texto y al final se realiza una sintesis de la clase, este ultimo paso se puede realizar de manera manual haciendo uso de chatgpt."
   ]
  },
  {
   "cell_type": "markdown",
   "id": "dcaad1fe",
   "metadata": {},
   "source": [
    "# **Paso 0: Librerias**"
   ]
  },
  {
   "cell_type": "markdown",
   "id": "ace3ced8",
   "metadata": {},
   "source": [
    "Instalar primero ffmpeg : https://www.youtube.com/watch?v=NcnTaW2xrLE"
   ]
  },
  {
   "cell_type": "code",
   "execution_count": null,
   "id": "ff6108a9",
   "metadata": {},
   "outputs": [],
   "source": [
    "!pip install moviepy SpeechRecognition pydub\n"
   ]
  },
  {
   "cell_type": "markdown",
   "id": "80ae697a",
   "metadata": {},
   "source": [
    "# **Paso 1: Dividir el video en 20 fragmentos.**"
   ]
  },
  {
   "cell_type": "code",
   "execution_count": 1,
   "id": "18aaf484",
   "metadata": {},
   "outputs": [],
   "source": [
    "import moviepy.editor as mp\n",
    "import os\n",
    "\n",
    "def dividir_video_en_fragmentos(video_path, num_fragmentos):\n",
    "    # Cargar el video\n",
    "    video = mp.VideoFileClip(video_path)\n",
    "    \n",
    "    # Duración total del video\n",
    "    duracion_total = video.duration\n",
    "    duracion_fragmento = duracion_total / num_fragmentos\n",
    "    \n",
    "    # Crear una carpeta para los fragmentos si no existe\n",
    "    if not os.path.exists('fragmentos'):\n",
    "        os.makedirs('fragmentos')\n",
    "    \n",
    "    fragmentos_paths = []\n",
    "    \n",
    "    # Dividir el video en fragmentos\n",
    "    for i in range(num_fragmentos):\n",
    "        inicio = i * duracion_fragmento\n",
    "        fin = inicio + duracion_fragmento\n",
    "        fragmento = video.subclip(inicio, fin)\n",
    "        fragmento_path = f'fragmentos/fragmento_{i+1}.mp4'  # Guardamos como .avi\n",
    "        fragmento.write_videofile(fragmento_path, codec=\"libx264\")  # Aseguramos que el codec sea compatible\n",
    "        fragmentos_paths.append(fragmento_path)\n",
    "    \n",
    "    return fragmentos_paths\n"
   ]
  },
  {
   "cell_type": "code",
   "execution_count": 9,
   "id": "e596c684",
   "metadata": {},
   "outputs": [
    {
     "name": "stdout",
     "output_type": "stream",
     "text": [
      "C:\\Users\\soporte\\Documents\\UNI_SINTESIS\n",
      "Moviepy - Building video fragmentos/fragmento_1.mp4.\n",
      "MoviePy - Writing audio in fragmento_1TEMP_MPY_wvf_snd.mp3\n"
     ]
    },
    {
     "name": "stderr",
     "output_type": "stream",
     "text": [
      "                                                                        \r"
     ]
    },
    {
     "name": "stdout",
     "output_type": "stream",
     "text": [
      "MoviePy - Done.\n",
      "Moviepy - Writing video fragmentos/fragmento_1.mp4\n",
      "\n"
     ]
    },
    {
     "name": "stderr",
     "output_type": "stream",
     "text": [
      "                                                                  \r"
     ]
    },
    {
     "name": "stdout",
     "output_type": "stream",
     "text": [
      "Moviepy - Done !\n",
      "Moviepy - video ready fragmentos/fragmento_1.mp4\n",
      "Moviepy - Building video fragmentos/fragmento_2.mp4.\n",
      "MoviePy - Writing audio in fragmento_2TEMP_MPY_wvf_snd.mp3\n"
     ]
    },
    {
     "name": "stderr",
     "output_type": "stream",
     "text": [
      "                                                                        \r"
     ]
    },
    {
     "name": "stdout",
     "output_type": "stream",
     "text": [
      "MoviePy - Done.\n",
      "Moviepy - Writing video fragmentos/fragmento_2.mp4\n",
      "\n"
     ]
    },
    {
     "name": "stderr",
     "output_type": "stream",
     "text": [
      "                                                                  \r"
     ]
    },
    {
     "name": "stdout",
     "output_type": "stream",
     "text": [
      "Moviepy - Done !\n",
      "Moviepy - video ready fragmentos/fragmento_2.mp4\n",
      "Moviepy - Building video fragmentos/fragmento_3.mp4.\n",
      "MoviePy - Writing audio in fragmento_3TEMP_MPY_wvf_snd.mp3\n"
     ]
    },
    {
     "name": "stderr",
     "output_type": "stream",
     "text": [
      "                                                                        \r"
     ]
    },
    {
     "name": "stdout",
     "output_type": "stream",
     "text": [
      "MoviePy - Done.\n",
      "Moviepy - Writing video fragmentos/fragmento_3.mp4\n",
      "\n"
     ]
    },
    {
     "name": "stderr",
     "output_type": "stream",
     "text": [
      "                                                                  \r"
     ]
    },
    {
     "name": "stdout",
     "output_type": "stream",
     "text": [
      "Moviepy - Done !\n",
      "Moviepy - video ready fragmentos/fragmento_3.mp4\n",
      "Moviepy - Building video fragmentos/fragmento_4.mp4.\n",
      "MoviePy - Writing audio in fragmento_4TEMP_MPY_wvf_snd.mp3\n"
     ]
    },
    {
     "name": "stderr",
     "output_type": "stream",
     "text": [
      "                                                                        \r"
     ]
    },
    {
     "name": "stdout",
     "output_type": "stream",
     "text": [
      "MoviePy - Done.\n",
      "Moviepy - Writing video fragmentos/fragmento_4.mp4\n",
      "\n"
     ]
    },
    {
     "name": "stderr",
     "output_type": "stream",
     "text": [
      "                                                                  \r"
     ]
    },
    {
     "name": "stdout",
     "output_type": "stream",
     "text": [
      "Moviepy - Done !\n",
      "Moviepy - video ready fragmentos/fragmento_4.mp4\n",
      "Moviepy - Building video fragmentos/fragmento_5.mp4.\n",
      "MoviePy - Writing audio in fragmento_5TEMP_MPY_wvf_snd.mp3\n"
     ]
    },
    {
     "name": "stderr",
     "output_type": "stream",
     "text": [
      "                                                                        \r"
     ]
    },
    {
     "name": "stdout",
     "output_type": "stream",
     "text": [
      "MoviePy - Done.\n",
      "Moviepy - Writing video fragmentos/fragmento_5.mp4\n",
      "\n"
     ]
    },
    {
     "name": "stderr",
     "output_type": "stream",
     "text": [
      "                                                                  \r"
     ]
    },
    {
     "name": "stdout",
     "output_type": "stream",
     "text": [
      "Moviepy - Done !\n",
      "Moviepy - video ready fragmentos/fragmento_5.mp4\n",
      "Moviepy - Building video fragmentos/fragmento_6.mp4.\n",
      "MoviePy - Writing audio in fragmento_6TEMP_MPY_wvf_snd.mp3\n"
     ]
    },
    {
     "name": "stderr",
     "output_type": "stream",
     "text": [
      "                                                                        \r"
     ]
    },
    {
     "name": "stdout",
     "output_type": "stream",
     "text": [
      "MoviePy - Done.\n",
      "Moviepy - Writing video fragmentos/fragmento_6.mp4\n",
      "\n"
     ]
    },
    {
     "name": "stderr",
     "output_type": "stream",
     "text": [
      "                                                                  \r"
     ]
    },
    {
     "name": "stdout",
     "output_type": "stream",
     "text": [
      "Moviepy - Done !\n",
      "Moviepy - video ready fragmentos/fragmento_6.mp4\n",
      "Moviepy - Building video fragmentos/fragmento_7.mp4.\n",
      "MoviePy - Writing audio in fragmento_7TEMP_MPY_wvf_snd.mp3\n"
     ]
    },
    {
     "name": "stderr",
     "output_type": "stream",
     "text": [
      "                                                                        \r"
     ]
    },
    {
     "name": "stdout",
     "output_type": "stream",
     "text": [
      "MoviePy - Done.\n",
      "Moviepy - Writing video fragmentos/fragmento_7.mp4\n",
      "\n"
     ]
    },
    {
     "name": "stderr",
     "output_type": "stream",
     "text": [
      "                                                                  \r"
     ]
    },
    {
     "name": "stdout",
     "output_type": "stream",
     "text": [
      "Moviepy - Done !\n",
      "Moviepy - video ready fragmentos/fragmento_7.mp4\n",
      "Moviepy - Building video fragmentos/fragmento_8.mp4.\n",
      "MoviePy - Writing audio in fragmento_8TEMP_MPY_wvf_snd.mp3\n"
     ]
    },
    {
     "name": "stderr",
     "output_type": "stream",
     "text": [
      "                                                                        \r"
     ]
    },
    {
     "name": "stdout",
     "output_type": "stream",
     "text": [
      "MoviePy - Done.\n",
      "Moviepy - Writing video fragmentos/fragmento_8.mp4\n",
      "\n"
     ]
    },
    {
     "name": "stderr",
     "output_type": "stream",
     "text": [
      "                                                                  \r"
     ]
    },
    {
     "name": "stdout",
     "output_type": "stream",
     "text": [
      "Moviepy - Done !\n",
      "Moviepy - video ready fragmentos/fragmento_8.mp4\n",
      "Moviepy - Building video fragmentos/fragmento_9.mp4.\n",
      "MoviePy - Writing audio in fragmento_9TEMP_MPY_wvf_snd.mp3\n"
     ]
    },
    {
     "name": "stderr",
     "output_type": "stream",
     "text": [
      "                                                                        \r"
     ]
    },
    {
     "name": "stdout",
     "output_type": "stream",
     "text": [
      "MoviePy - Done.\n",
      "Moviepy - Writing video fragmentos/fragmento_9.mp4\n",
      "\n"
     ]
    },
    {
     "name": "stderr",
     "output_type": "stream",
     "text": [
      "                                                                  \r"
     ]
    },
    {
     "name": "stdout",
     "output_type": "stream",
     "text": [
      "Moviepy - Done !\n",
      "Moviepy - video ready fragmentos/fragmento_9.mp4\n",
      "Moviepy - Building video fragmentos/fragmento_10.mp4.\n",
      "MoviePy - Writing audio in fragmento_10TEMP_MPY_wvf_snd.mp3\n"
     ]
    },
    {
     "name": "stderr",
     "output_type": "stream",
     "text": [
      "                                                                        \r"
     ]
    },
    {
     "name": "stdout",
     "output_type": "stream",
     "text": [
      "MoviePy - Done.\n",
      "Moviepy - Writing video fragmentos/fragmento_10.mp4\n",
      "\n"
     ]
    },
    {
     "name": "stderr",
     "output_type": "stream",
     "text": [
      "                                                                  \r"
     ]
    },
    {
     "name": "stdout",
     "output_type": "stream",
     "text": [
      "Moviepy - Done !\n",
      "Moviepy - video ready fragmentos/fragmento_10.mp4\n",
      "Moviepy - Building video fragmentos/fragmento_11.mp4.\n",
      "MoviePy - Writing audio in fragmento_11TEMP_MPY_wvf_snd.mp3\n"
     ]
    },
    {
     "name": "stderr",
     "output_type": "stream",
     "text": [
      "                                                                        \r"
     ]
    },
    {
     "name": "stdout",
     "output_type": "stream",
     "text": [
      "MoviePy - Done.\n",
      "Moviepy - Writing video fragmentos/fragmento_11.mp4\n",
      "\n"
     ]
    },
    {
     "name": "stderr",
     "output_type": "stream",
     "text": [
      "                                                                  \r"
     ]
    },
    {
     "name": "stdout",
     "output_type": "stream",
     "text": [
      "Moviepy - Done !\n",
      "Moviepy - video ready fragmentos/fragmento_11.mp4\n",
      "Moviepy - Building video fragmentos/fragmento_12.mp4.\n",
      "MoviePy - Writing audio in fragmento_12TEMP_MPY_wvf_snd.mp3\n"
     ]
    },
    {
     "name": "stderr",
     "output_type": "stream",
     "text": [
      "                                                                        \r"
     ]
    },
    {
     "name": "stdout",
     "output_type": "stream",
     "text": [
      "MoviePy - Done.\n",
      "Moviepy - Writing video fragmentos/fragmento_12.mp4\n",
      "\n"
     ]
    },
    {
     "name": "stderr",
     "output_type": "stream",
     "text": [
      "                                                                  \r"
     ]
    },
    {
     "name": "stdout",
     "output_type": "stream",
     "text": [
      "Moviepy - Done !\n",
      "Moviepy - video ready fragmentos/fragmento_12.mp4\n",
      "Moviepy - Building video fragmentos/fragmento_13.mp4.\n",
      "MoviePy - Writing audio in fragmento_13TEMP_MPY_wvf_snd.mp3\n"
     ]
    },
    {
     "name": "stderr",
     "output_type": "stream",
     "text": [
      "                                                                        \r"
     ]
    },
    {
     "name": "stdout",
     "output_type": "stream",
     "text": [
      "MoviePy - Done.\n",
      "Moviepy - Writing video fragmentos/fragmento_13.mp4\n",
      "\n"
     ]
    },
    {
     "name": "stderr",
     "output_type": "stream",
     "text": [
      "                                                                  \r"
     ]
    },
    {
     "name": "stdout",
     "output_type": "stream",
     "text": [
      "Moviepy - Done !\n",
      "Moviepy - video ready fragmentos/fragmento_13.mp4\n",
      "Moviepy - Building video fragmentos/fragmento_14.mp4.\n",
      "MoviePy - Writing audio in fragmento_14TEMP_MPY_wvf_snd.mp3\n"
     ]
    },
    {
     "name": "stderr",
     "output_type": "stream",
     "text": [
      "                                                                        \r"
     ]
    },
    {
     "name": "stdout",
     "output_type": "stream",
     "text": [
      "MoviePy - Done.\n",
      "Moviepy - Writing video fragmentos/fragmento_14.mp4\n",
      "\n"
     ]
    },
    {
     "name": "stderr",
     "output_type": "stream",
     "text": [
      "                                                                  \r"
     ]
    },
    {
     "name": "stdout",
     "output_type": "stream",
     "text": [
      "Moviepy - Done !\n",
      "Moviepy - video ready fragmentos/fragmento_14.mp4\n",
      "Moviepy - Building video fragmentos/fragmento_15.mp4.\n",
      "MoviePy - Writing audio in fragmento_15TEMP_MPY_wvf_snd.mp3\n"
     ]
    },
    {
     "name": "stderr",
     "output_type": "stream",
     "text": [
      "                                                                        \r"
     ]
    },
    {
     "name": "stdout",
     "output_type": "stream",
     "text": [
      "MoviePy - Done.\n",
      "Moviepy - Writing video fragmentos/fragmento_15.mp4\n",
      "\n"
     ]
    },
    {
     "name": "stderr",
     "output_type": "stream",
     "text": [
      "                                                                  \r"
     ]
    },
    {
     "name": "stdout",
     "output_type": "stream",
     "text": [
      "Moviepy - Done !\n",
      "Moviepy - video ready fragmentos/fragmento_15.mp4\n",
      "Moviepy - Building video fragmentos/fragmento_16.mp4.\n",
      "MoviePy - Writing audio in fragmento_16TEMP_MPY_wvf_snd.mp3\n"
     ]
    },
    {
     "name": "stderr",
     "output_type": "stream",
     "text": [
      "                                                                        \r"
     ]
    },
    {
     "name": "stdout",
     "output_type": "stream",
     "text": [
      "MoviePy - Done.\n",
      "Moviepy - Writing video fragmentos/fragmento_16.mp4\n",
      "\n"
     ]
    },
    {
     "name": "stderr",
     "output_type": "stream",
     "text": [
      "                                                                  \r"
     ]
    },
    {
     "name": "stdout",
     "output_type": "stream",
     "text": [
      "Moviepy - Done !\n",
      "Moviepy - video ready fragmentos/fragmento_16.mp4\n",
      "Moviepy - Building video fragmentos/fragmento_17.mp4.\n",
      "MoviePy - Writing audio in fragmento_17TEMP_MPY_wvf_snd.mp3\n"
     ]
    },
    {
     "name": "stderr",
     "output_type": "stream",
     "text": [
      "                                                                        \r"
     ]
    },
    {
     "name": "stdout",
     "output_type": "stream",
     "text": [
      "MoviePy - Done.\n",
      "Moviepy - Writing video fragmentos/fragmento_17.mp4\n",
      "\n"
     ]
    },
    {
     "name": "stderr",
     "output_type": "stream",
     "text": [
      "                                                                       \r"
     ]
    },
    {
     "name": "stdout",
     "output_type": "stream",
     "text": [
      "Moviepy - Done !\n",
      "Moviepy - video ready fragmentos/fragmento_17.mp4\n",
      "Moviepy - Building video fragmentos/fragmento_18.mp4.\n",
      "MoviePy - Writing audio in fragmento_18TEMP_MPY_wvf_snd.mp3\n"
     ]
    },
    {
     "name": "stderr",
     "output_type": "stream",
     "text": [
      "                                                                        \r"
     ]
    },
    {
     "name": "stdout",
     "output_type": "stream",
     "text": [
      "MoviePy - Done.\n",
      "Moviepy - Writing video fragmentos/fragmento_18.mp4\n",
      "\n"
     ]
    },
    {
     "name": "stderr",
     "output_type": "stream",
     "text": [
      "                                                                  \r"
     ]
    },
    {
     "name": "stdout",
     "output_type": "stream",
     "text": [
      "Moviepy - Done !\n",
      "Moviepy - video ready fragmentos/fragmento_18.mp4\n",
      "Moviepy - Building video fragmentos/fragmento_19.mp4.\n",
      "MoviePy - Writing audio in fragmento_19TEMP_MPY_wvf_snd.mp3\n"
     ]
    },
    {
     "name": "stderr",
     "output_type": "stream",
     "text": [
      "                                                                        \r"
     ]
    },
    {
     "name": "stdout",
     "output_type": "stream",
     "text": [
      "MoviePy - Done.\n",
      "Moviepy - Writing video fragmentos/fragmento_19.mp4\n",
      "\n"
     ]
    },
    {
     "name": "stderr",
     "output_type": "stream",
     "text": [
      "                                                                  \r"
     ]
    },
    {
     "name": "stdout",
     "output_type": "stream",
     "text": [
      "Moviepy - Done !\n",
      "Moviepy - video ready fragmentos/fragmento_19.mp4\n",
      "Moviepy - Building video fragmentos/fragmento_20.mp4.\n",
      "MoviePy - Writing audio in fragmento_20TEMP_MPY_wvf_snd.mp3\n"
     ]
    },
    {
     "name": "stderr",
     "output_type": "stream",
     "text": [
      "                                                                        \r"
     ]
    },
    {
     "name": "stdout",
     "output_type": "stream",
     "text": [
      "MoviePy - Done.\n",
      "Moviepy - Writing video fragmentos/fragmento_20.mp4\n",
      "\n"
     ]
    },
    {
     "name": "stderr",
     "output_type": "stream",
     "text": [
      "                                                                   \r"
     ]
    },
    {
     "name": "stdout",
     "output_type": "stream",
     "text": [
      "Moviepy - Done !\n",
      "Moviepy - video ready fragmentos/fragmento_20.mp4\n",
      "['fragmentos/fragmento_1.mp4', 'fragmentos/fragmento_2.mp4', 'fragmentos/fragmento_3.mp4', 'fragmentos/fragmento_4.mp4', 'fragmentos/fragmento_5.mp4', 'fragmentos/fragmento_6.mp4', 'fragmentos/fragmento_7.mp4', 'fragmentos/fragmento_8.mp4', 'fragmentos/fragmento_9.mp4', 'fragmentos/fragmento_10.mp4', 'fragmentos/fragmento_11.mp4', 'fragmentos/fragmento_12.mp4', 'fragmentos/fragmento_13.mp4', 'fragmentos/fragmento_14.mp4', 'fragmentos/fragmento_15.mp4', 'fragmentos/fragmento_16.mp4', 'fragmentos/fragmento_17.mp4', 'fragmentos/fragmento_18.mp4', 'fragmentos/fragmento_19.mp4', 'fragmentos/fragmento_20.mp4']\n"
     ]
    }
   ],
   "source": [
    "\n",
    "# Ruta al archivo de video en formato mp4 o avi\n",
    "import os\n",
    "\n",
    "path = os.getcwd()\n",
    "print(path)\n",
    "#video_path = r\"C:\\Users\\soporte\\Documents\\UNI_SINTESIS\\GMT20240911-225936_Recording_640x360.mp4\"\n",
    "#video_path = r\"C:\\Users\\soporte\\Documents\\UNI_SINTESIS\\GMT20240925-225902_Recording_1920x1080.mp4\"\n",
    "#video_path = r\"C:\\Users\\soporte\\Documents\\UNI_SINTESIS\\GMT20241002-225934_Recording_1920x1080.mp4\"\n",
    "video_path = r\"C:\\Users\\soporte\\Documents\\UNI_SINTESIS\\GMT20241016-230014_Recording_1920x1080.mp4\"\n",
    "\n",
    "# Dividir en 20 fragmentos\n",
    "fragmentos_paths = dividir_video_en_fragmentos(video_path, 20)\n",
    "print(fragmentos_paths)"
   ]
  },
  {
   "cell_type": "markdown",
   "id": "577440da",
   "metadata": {},
   "source": [
    "# **PASO 2: CONVERTIR LOS FRAGMENTOS DE VIDEO A AUDIO(SIN CAMBIOS SIGNIFICATIVOS)**"
   ]
  },
  {
   "cell_type": "code",
   "execution_count": 10,
   "id": "cd29f6f9",
   "metadata": {},
   "outputs": [],
   "source": [
    "def convertir_video_a_audio(video_paths):\n",
    "    audios_paths = []\n",
    "    \n",
    "    # Crear carpeta para audios si no existe\n",
    "    if not os.path.exists('audios'):\n",
    "        os.makedirs('audios')\n",
    "    \n",
    "    for video_path in video_paths:\n",
    "        # Cargar el video\n",
    "        video = mp.VideoFileClip(video_path)\n",
    "        \n",
    "        # Extraer el audio y guardarlo como .wav con el codec correcto\n",
    "        audio_path = video_path.replace('fragmentos', 'audios').replace('.mp4', '.mp3')\n",
    "        \n",
    "        # Especificamos el codec \"pcm_s16le\" para el formato .wav\n",
    "        video.audio.write_audiofile(audio_path, codec=\"libmp3lame\")\n",
    "        audios_paths.append(audio_path)\n",
    "    \n",
    "    return audios_paths"
   ]
  },
  {
   "cell_type": "code",
   "execution_count": 11,
   "id": "16cae9d9",
   "metadata": {},
   "outputs": [
    {
     "name": "stdout",
     "output_type": "stream",
     "text": [
      "MoviePy - Writing audio in audios/fragmento_1.mp3\n"
     ]
    },
    {
     "name": "stderr",
     "output_type": "stream",
     "text": [
      "                                                                        \r"
     ]
    },
    {
     "name": "stdout",
     "output_type": "stream",
     "text": [
      "MoviePy - Done.\n",
      "MoviePy - Writing audio in audios/fragmento_2.mp3\n"
     ]
    },
    {
     "name": "stderr",
     "output_type": "stream",
     "text": [
      "                                                                        \r"
     ]
    },
    {
     "name": "stdout",
     "output_type": "stream",
     "text": [
      "MoviePy - Done.\n",
      "MoviePy - Writing audio in audios/fragmento_3.mp3\n"
     ]
    },
    {
     "name": "stderr",
     "output_type": "stream",
     "text": [
      "                                                                        \r"
     ]
    },
    {
     "name": "stdout",
     "output_type": "stream",
     "text": [
      "MoviePy - Done.\n",
      "MoviePy - Writing audio in audios/fragmento_4.mp3\n"
     ]
    },
    {
     "name": "stderr",
     "output_type": "stream",
     "text": [
      "                                                                        \r"
     ]
    },
    {
     "name": "stdout",
     "output_type": "stream",
     "text": [
      "MoviePy - Done.\n",
      "MoviePy - Writing audio in audios/fragmento_5.mp3\n"
     ]
    },
    {
     "name": "stderr",
     "output_type": "stream",
     "text": [
      "                                                                        \r"
     ]
    },
    {
     "name": "stdout",
     "output_type": "stream",
     "text": [
      "MoviePy - Done.\n",
      "MoviePy - Writing audio in audios/fragmento_6.mp3\n"
     ]
    },
    {
     "name": "stderr",
     "output_type": "stream",
     "text": [
      "                                                                        \r"
     ]
    },
    {
     "name": "stdout",
     "output_type": "stream",
     "text": [
      "MoviePy - Done.\n",
      "MoviePy - Writing audio in audios/fragmento_7.mp3\n"
     ]
    },
    {
     "name": "stderr",
     "output_type": "stream",
     "text": [
      "                                                                        \r"
     ]
    },
    {
     "name": "stdout",
     "output_type": "stream",
     "text": [
      "MoviePy - Done.\n",
      "MoviePy - Writing audio in audios/fragmento_8.mp3\n"
     ]
    },
    {
     "name": "stderr",
     "output_type": "stream",
     "text": [
      "                                                                        \r"
     ]
    },
    {
     "name": "stdout",
     "output_type": "stream",
     "text": [
      "MoviePy - Done.\n",
      "MoviePy - Writing audio in audios/fragmento_9.mp3\n"
     ]
    },
    {
     "name": "stderr",
     "output_type": "stream",
     "text": [
      "                                                                        \r"
     ]
    },
    {
     "name": "stdout",
     "output_type": "stream",
     "text": [
      "MoviePy - Done.\n",
      "MoviePy - Writing audio in audios/fragmento_10.mp3\n"
     ]
    },
    {
     "name": "stderr",
     "output_type": "stream",
     "text": [
      "                                                                        \r"
     ]
    },
    {
     "name": "stdout",
     "output_type": "stream",
     "text": [
      "MoviePy - Done.\n",
      "MoviePy - Writing audio in audios/fragmento_11.mp3\n"
     ]
    },
    {
     "name": "stderr",
     "output_type": "stream",
     "text": [
      "                                                                        \r"
     ]
    },
    {
     "name": "stdout",
     "output_type": "stream",
     "text": [
      "MoviePy - Done.\n",
      "MoviePy - Writing audio in audios/fragmento_12.mp3\n"
     ]
    },
    {
     "name": "stderr",
     "output_type": "stream",
     "text": [
      "                                                                        \r"
     ]
    },
    {
     "name": "stdout",
     "output_type": "stream",
     "text": [
      "MoviePy - Done.\n",
      "MoviePy - Writing audio in audios/fragmento_13.mp3\n"
     ]
    },
    {
     "name": "stderr",
     "output_type": "stream",
     "text": [
      "                                                                        \r"
     ]
    },
    {
     "name": "stdout",
     "output_type": "stream",
     "text": [
      "MoviePy - Done.\n",
      "MoviePy - Writing audio in audios/fragmento_14.mp3\n"
     ]
    },
    {
     "name": "stderr",
     "output_type": "stream",
     "text": [
      "                                                                        \r"
     ]
    },
    {
     "name": "stdout",
     "output_type": "stream",
     "text": [
      "MoviePy - Done.\n",
      "MoviePy - Writing audio in audios/fragmento_15.mp3\n"
     ]
    },
    {
     "name": "stderr",
     "output_type": "stream",
     "text": [
      "                                                                        \r"
     ]
    },
    {
     "name": "stdout",
     "output_type": "stream",
     "text": [
      "MoviePy - Done.\n",
      "MoviePy - Writing audio in audios/fragmento_16.mp3\n"
     ]
    },
    {
     "name": "stderr",
     "output_type": "stream",
     "text": [
      "                                                                        \r"
     ]
    },
    {
     "name": "stdout",
     "output_type": "stream",
     "text": [
      "MoviePy - Done.\n",
      "MoviePy - Writing audio in audios/fragmento_17.mp3\n"
     ]
    },
    {
     "name": "stderr",
     "output_type": "stream",
     "text": [
      "                                                                        \r"
     ]
    },
    {
     "name": "stdout",
     "output_type": "stream",
     "text": [
      "MoviePy - Done.\n",
      "MoviePy - Writing audio in audios/fragmento_18.mp3\n"
     ]
    },
    {
     "name": "stderr",
     "output_type": "stream",
     "text": [
      "                                                                        \r"
     ]
    },
    {
     "name": "stdout",
     "output_type": "stream",
     "text": [
      "MoviePy - Done.\n",
      "MoviePy - Writing audio in audios/fragmento_19.mp3\n"
     ]
    },
    {
     "name": "stderr",
     "output_type": "stream",
     "text": [
      "                                                                        \r"
     ]
    },
    {
     "name": "stdout",
     "output_type": "stream",
     "text": [
      "MoviePy - Done.\n",
      "MoviePy - Writing audio in audios/fragmento_20.mp3\n"
     ]
    },
    {
     "name": "stderr",
     "output_type": "stream",
     "text": [
      "                                                                        "
     ]
    },
    {
     "name": "stdout",
     "output_type": "stream",
     "text": [
      "MoviePy - Done.\n",
      "['audios/fragmento_1.mp3', 'audios/fragmento_2.mp3', 'audios/fragmento_3.mp3', 'audios/fragmento_4.mp3', 'audios/fragmento_5.mp3', 'audios/fragmento_6.mp3', 'audios/fragmento_7.mp3', 'audios/fragmento_8.mp3', 'audios/fragmento_9.mp3', 'audios/fragmento_10.mp3', 'audios/fragmento_11.mp3', 'audios/fragmento_12.mp3', 'audios/fragmento_13.mp3', 'audios/fragmento_14.mp3', 'audios/fragmento_15.mp3', 'audios/fragmento_16.mp3', 'audios/fragmento_17.mp3', 'audios/fragmento_18.mp3', 'audios/fragmento_19.mp3', 'audios/fragmento_20.mp3']\n"
     ]
    },
    {
     "name": "stderr",
     "output_type": "stream",
     "text": [
      "\r"
     ]
    }
   ],
   "source": [
    "# Convertir todos los fragmentos de video a audio\n",
    "audios_paths = convertir_video_a_audio(fragmentos_paths)\n",
    "print(audios_paths)"
   ]
  },
  {
   "cell_type": "markdown",
   "id": "a7611d9c",
   "metadata": {},
   "source": [
    "# **PASO 3: Convertir los audios a texto(Sin cambios)**"
   ]
  },
  {
   "cell_type": "markdown",
   "id": "695eae5f",
   "metadata": {},
   "source": [
    "El proceso de conversión de audio a texto sigue igual. Convertimos los archivos de audio .wav o .mp3  a texto,utilizando la libreria whisper:"
   ]
  },
  {
   "cell_type": "code",
   "execution_count": 1,
   "id": "6a96b335",
   "metadata": {},
   "outputs": [
    {
     "name": "stdout",
     "output_type": "stream",
     "text": [
      "Collecting git+https://github.com/openai/whisper.git\n",
      "  Cloning https://github.com/openai/whisper.git to c:\\users\\soporte\\appdata\\local\\temp\\pip-req-build-irqrnxcp\n",
      "  Resolved https://github.com/openai/whisper.git to commit 25639fc17ddc013d56c594bfbf7644f2185fad84\n",
      "  Installing build dependencies: started\n",
      "  Installing build dependencies: finished with status 'done'\n",
      "  Getting requirements to build wheel: started\n",
      "  Getting requirements to build wheel: finished with status 'done'\n",
      "  Preparing metadata (pyproject.toml): started\n",
      "  Preparing metadata (pyproject.toml): finished with status 'done'\n",
      "Requirement already satisfied: numba in c:\\users\\soporte\\anaconda3\\lib\\site-packages (from openai-whisper==20240930) (0.57.0)\n",
      "Requirement already satisfied: numpy in c:\\users\\soporte\\anaconda3\\lib\\site-packages (from openai-whisper==20240930) (1.24.3)\n",
      "Requirement already satisfied: torch in c:\\users\\soporte\\anaconda3\\lib\\site-packages (from openai-whisper==20240930) (2.5.0)\n",
      "Requirement already satisfied: tqdm in c:\\users\\soporte\\anaconda3\\lib\\site-packages (from openai-whisper==20240930) (4.65.0)\n",
      "Requirement already satisfied: more-itertools in c:\\users\\soporte\\anaconda3\\lib\\site-packages (from openai-whisper==20240930) (8.12.0)\n",
      "Requirement already satisfied: tiktoken in c:\\users\\soporte\\anaconda3\\lib\\site-packages (from openai-whisper==20240930) (0.8.0)\n",
      "Requirement already satisfied: llvmlite<0.41,>=0.40.0dev0 in c:\\users\\soporte\\anaconda3\\lib\\site-packages (from numba->openai-whisper==20240930) (0.40.0)\n",
      "Requirement already satisfied: regex>=2022.1.18 in c:\\users\\soporte\\anaconda3\\lib\\site-packages (from tiktoken->openai-whisper==20240930) (2022.7.9)\n",
      "Requirement already satisfied: requests>=2.26.0 in c:\\users\\soporte\\anaconda3\\lib\\site-packages (from tiktoken->openai-whisper==20240930) (2.31.0)\n",
      "Requirement already satisfied: filelock in c:\\users\\soporte\\anaconda3\\lib\\site-packages (from torch->openai-whisper==20240930) (3.13.1)\n",
      "Requirement already satisfied: typing-extensions>=4.8.0 in c:\\users\\soporte\\anaconda3\\lib\\site-packages (from torch->openai-whisper==20240930) (4.9.0)\n",
      "Requirement already satisfied: networkx in c:\\users\\soporte\\anaconda3\\lib\\site-packages (from torch->openai-whisper==20240930) (3.1)\n",
      "Requirement already satisfied: jinja2 in c:\\users\\soporte\\anaconda3\\lib\\site-packages (from torch->openai-whisper==20240930) (3.1.2)\n",
      "Requirement already satisfied: fsspec in c:\\users\\soporte\\anaconda3\\lib\\site-packages (from torch->openai-whisper==20240930) (2023.3.0)\n",
      "Requirement already satisfied: sympy==1.13.1 in c:\\users\\soporte\\anaconda3\\lib\\site-packages (from torch->openai-whisper==20240930) (1.13.1)\n",
      "Requirement already satisfied: mpmath<1.4,>=1.1.0 in c:\\users\\soporte\\anaconda3\\lib\\site-packages (from sympy==1.13.1->torch->openai-whisper==20240930) (1.3.0)\n",
      "Requirement already satisfied: colorama in c:\\users\\soporte\\anaconda3\\lib\\site-packages (from tqdm->openai-whisper==20240930) (0.4.6)\n",
      "Requirement already satisfied: charset-normalizer<4,>=2 in c:\\users\\soporte\\anaconda3\\lib\\site-packages (from requests>=2.26.0->tiktoken->openai-whisper==20240930) (2.0.4)\n",
      "Requirement already satisfied: idna<4,>=2.5 in c:\\users\\soporte\\anaconda3\\lib\\site-packages (from requests>=2.26.0->tiktoken->openai-whisper==20240930) (3.4)\n",
      "Requirement already satisfied: urllib3<3,>=1.21.1 in c:\\users\\soporte\\anaconda3\\lib\\site-packages (from requests>=2.26.0->tiktoken->openai-whisper==20240930) (1.26.16)\n",
      "Requirement already satisfied: certifi>=2017.4.17 in c:\\users\\soporte\\anaconda3\\lib\\site-packages (from requests>=2.26.0->tiktoken->openai-whisper==20240930) (2023.7.22)\n",
      "Requirement already satisfied: MarkupSafe>=2.0 in c:\\users\\soporte\\anaconda3\\lib\\site-packages (from jinja2->torch->openai-whisper==20240930) (2.1.1)\n",
      "Note: you may need to restart the kernel to use updated packages.\n"
     ]
    },
    {
     "name": "stderr",
     "output_type": "stream",
     "text": [
      "  Running command git clone --filter=blob:none --quiet https://github.com/openai/whisper.git 'C:\\Users\\soporte\\AppData\\Local\\Temp\\pip-req-build-irqrnxcp'\n"
     ]
    }
   ],
   "source": [
    "pip install git+https://github.com/openai/whisper.git"
   ]
  },
  {
   "cell_type": "code",
   "execution_count": 2,
   "id": "fe74d172",
   "metadata": {},
   "outputs": [],
   "source": [
    "import whisper\n",
    "import os\n",
    "\n",
    "def audio_a_texto(audio_paths):\n",
    "    # Cargar el modelo Whisper (puedes elegir entre tiny, base, small, medium, large)\n",
    "    model = whisper.load_model(\"small\")\n",
    "    textos = []\n",
    "    i=0\n",
    "    for audio_path in audio_paths:\n",
    "        # Verificar que el archivo de audio existe\n",
    "        if not os.path.exists(audio_path):\n",
    "            print(f\"El archivo {audio_path} no existe.\")\n",
    "            textos.append(\"[Archivo no encontrado]\")\n",
    "            continue\n",
    "        \n",
    "        try:\n",
    "            print(\"working...\")\n",
    "            # Transcribir el archivo de audio usando Whisper\n",
    "            result = model.transcribe(audio_path, language='es')\n",
    "            \n",
    "            # Verificar que la transcripción no sea None\n",
    "            if result and \"text\" in result:\n",
    "                textos.append(result[\"text\"])\n",
    "                print(\"Texto--->\",i)\n",
    "                i=i+1\n",
    "            else:\n",
    "                textos.append(\"[Transcripción fallida]\")\n",
    "        \n",
    "        except Exception as e:\n",
    "            print(f\"Error al transcribir el archivo {audio_path}: {e}\")\n",
    "            textos.append(f\"[Error: {e}]\")\n",
    "    \n",
    "    return textos"
   ]
  },
  {
   "cell_type": "code",
   "execution_count": 3,
   "id": "6d61e9c4",
   "metadata": {},
   "outputs": [
    {
     "name": "stderr",
     "output_type": "stream",
     "text": [
      "C:\\Users\\soporte\\anaconda3\\Lib\\site-packages\\whisper\\__init__.py:150: FutureWarning: You are using `torch.load` with `weights_only=False` (the current default value), which uses the default pickle module implicitly. It is possible to construct malicious pickle data which will execute arbitrary code during unpickling (See https://github.com/pytorch/pytorch/blob/main/SECURITY.md#untrusted-models for more details). In a future release, the default value for `weights_only` will be flipped to `True`. This limits the functions that could be executed during unpickling. Arbitrary objects will no longer be allowed to be loaded via this mode unless they are explicitly allowlisted by the user via `torch.serialization.add_safe_globals`. We recommend you start setting `weights_only=True` for any use case where you don't have full control of the loaded file. Please open an issue on GitHub for any issues related to this experimental feature.\n",
      "  checkpoint = torch.load(fp, map_location=device)\n"
     ]
    },
    {
     "name": "stdout",
     "output_type": "stream",
     "text": [
      "working...\n"
     ]
    },
    {
     "name": "stderr",
     "output_type": "stream",
     "text": [
      "C:\\Users\\soporte\\anaconda3\\Lib\\site-packages\\whisper\\transcribe.py:126: UserWarning: FP16 is not supported on CPU; using FP32 instead\n",
      "  warnings.warn(\"FP16 is not supported on CPU; using FP32 instead\")\n"
     ]
    },
    {
     "name": "stdout",
     "output_type": "stream",
     "text": [
      "Texto---> 0\n",
      "working...\n",
      "Texto---> 1\n",
      "working...\n",
      "Texto---> 2\n",
      "working...\n",
      "Texto---> 3\n",
      "working...\n",
      "Texto---> 4\n",
      "working...\n",
      "Texto---> 5\n",
      "working...\n",
      "Texto---> 6\n",
      "working...\n",
      "Texto---> 7\n",
      "working...\n",
      "Texto---> 8\n",
      "working...\n",
      "Texto---> 9\n",
      "working...\n",
      "Texto---> 10\n",
      "working...\n",
      "Texto---> 11\n",
      "working...\n",
      "Texto---> 12\n",
      "working...\n",
      "Texto---> 13\n",
      "working...\n",
      "Texto---> 14\n",
      "working...\n",
      "Texto---> 15\n",
      "working...\n",
      "Texto---> 16\n",
      "working...\n",
      "Texto---> 17\n",
      "working...\n",
      "Texto---> 18\n",
      "working...\n",
      "Texto---> 19\n"
     ]
    }
   ],
   "source": [
    "# Convertir todos los audios a texto usando Whisper\n",
    "\n",
    "audios_paths=['audios/fragmento_1.mp3', 'audios/fragmento_2.mp3', 'audios/fragmento_3.mp3', 'audios/fragmento_4.mp3', 'audios/fragmento_5.mp3', 'audios/fragmento_6.mp3', 'audios/fragmento_7.mp3', 'audios/fragmento_8.mp3', 'audios/fragmento_9.mp3', 'audios/fragmento_10.mp3', 'audios/fragmento_11.mp3', 'audios/fragmento_12.mp3', 'audios/fragmento_13.mp3', 'audios/fragmento_14.mp3', 'audios/fragmento_15.mp3', 'audios/fragmento_16.mp3', 'audios/fragmento_17.mp3', 'audios/fragmento_18.mp3', 'audios/fragmento_19.mp3', 'audios/fragmento_20.mp3']\n",
    "#audios_paths=['audios/fragmento_2.mp3']\n",
    "textos = audio_a_texto(audios_paths)"
   ]
  },
  {
   "cell_type": "markdown",
   "id": "6afcf352",
   "metadata": {},
   "source": [
    "# **PASO 4: JUNTAR TODOS LOS FRAGMENTOS DE TEXTO(SIN CAMBIOS)**"
   ]
  },
  {
   "cell_type": "code",
   "execution_count": 4,
   "id": "363c2e00",
   "metadata": {},
   "outputs": [],
   "source": [
    "def juntar_textos(textos):\n",
    "    texto_completo = \"\\n\".join(textos)\n",
    "    with open(\"transcripcion_completa.txt\", \"w\", encoding=\"utf-8\") as file:\n",
    "        file.write(texto_completo)\n",
    "# se graba el archivo llamado transcripcion_completa.txt"
   ]
  },
  {
   "cell_type": "code",
   "execution_count": 5,
   "id": "e00b399c",
   "metadata": {},
   "outputs": [],
   "source": [
    "# Juntar y guardar los textos\n",
    "juntar_textos(textos)"
   ]
  },
  {
   "cell_type": "code",
   "execution_count": null,
   "id": "8103aef5",
   "metadata": {},
   "outputs": [],
   "source": []
  },
  {
   "cell_type": "code",
   "execution_count": null,
   "id": "73fee95b",
   "metadata": {},
   "outputs": [],
   "source": []
  },
  {
   "cell_type": "code",
   "execution_count": null,
   "id": "11d33ae1",
   "metadata": {},
   "outputs": [],
   "source": []
  }
 ],
 "metadata": {
  "kernelspec": {
   "display_name": "Python 3 (ipykernel)",
   "language": "python",
   "name": "python3"
  },
  "language_info": {
   "codemirror_mode": {
    "name": "ipython",
    "version": 3
   },
   "file_extension": ".py",
   "mimetype": "text/x-python",
   "name": "python",
   "nbconvert_exporter": "python",
   "pygments_lexer": "ipython3",
   "version": "3.11.3"
  }
 },
 "nbformat": 4,
 "nbformat_minor": 5
}
